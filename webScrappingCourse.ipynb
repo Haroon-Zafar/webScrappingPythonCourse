{
 "cells": [
  {
   "cell_type": "code",
   "execution_count": 1,
   "metadata": {},
   "outputs": [
    {
     "data": {
      "text/plain": [
       "'\\nWeb Scrapping\\nBeautiful Soup\\nScrapy\\nParsers\\nParsing HTML\\nExtracting Links\\n\\n'"
      ]
     },
     "execution_count": 1,
     "metadata": {},
     "output_type": "execute_result"
    }
   ],
   "source": [
    "# Contents Covered:\n",
    "'''\n",
    "Web Scrapping\n",
    "Beautiful Soup\n",
    "Scrapy\n",
    "Parsers\n",
    "Parsing HTML\n",
    "Extracting Links\n",
    "\n",
    "'''\n",
    "\n",
    "# How HTML tree hierarchy works and how to navigate through it, this is all done by PARSERS."
   ]
  },
  {
   "cell_type": "code",
   "execution_count": 2,
   "metadata": {},
   "outputs": [],
   "source": [
    "# Importing the libraries\n",
    "\n",
    "from bs4 import BeautifulSoup\n",
    "import requests"
   ]
  },
  {
   "cell_type": "code",
   "execution_count": 4,
   "metadata": {},
   "outputs": [
    {
     "name": "stdout",
     "output_type": "stream",
     "text": [
      "<!DOCTYPE html>\n",
      "<html lang=\"en\">\n",
      " <head>\n",
      "  <meta charset=\"utf-8\"/>\n",
      "  <meta content=\"IE=edge\" http-equiv=\"X-UA-Compatible\"/>\n",
      "  <meta content=\"width=device-width, initial-scale=1.0\" name=\"viewport\"/>\n",
      "  <title>\n",
      "   Document\n",
      "  </title>\n",
      " </head>\n",
      " <body>\n",
      "  <div class=\"container\">\n",
      "   <div class=\"post\">\n",
      "    <h3 class=\"title\">\n",
      "     <a href=\"/article1.html\">\n",
      "      Blog post 1 Title\n",
      "     </a>\n",
      "    </h3>\n",
      "    <p class=\"summary\">\n",
      "     Blog Post 1 Summary\n",
      "    </p>\n",
      "   </div>\n",
      "   <div class=\"post\">\n",
      "    <h3 class=\"title\">\n",
      "     <a href=\"/article2.html\">\n",
      "      Blog post 1 Title\n",
      "     </a>\n",
      "    </h3>\n",
      "    <p class=\"summary\">\n",
      "     Blog Post 2 Summary\n",
      "    </p>\n",
      "   </div>\n",
      "   <div class=\"post\">\n",
      "    <h3 class=\"title\">\n",
      "     <a href=\"/article3.html\">\n",
      "      Blog post 1 Title\n",
      "     </a>\n",
      "    </h3>\n",
      "    <p class=\"summary\">\n",
      "     Blog Post 3 Summary\n",
      "    </p>\n",
      "   </div>\n",
      "   <div class=\"post\">\n",
      "    <h3 class=\"title\">\n",
      "     <a href=\"/article4.html\">\n",
      "      Blog post 1 Title\n",
      "     </a>\n",
      "    </h3>\n",
      "    <p class=\"summary\">\n",
      "     Blog Post 4 Summary\n",
      "    </p>\n",
      "   </div>\n",
      "   <div class=\"post\">\n",
      "    <h3 class=\"title\">\n",
      "     <a href=\"/article5.html\">\n",
      "      Blog post 1 Title\n",
      "     </a>\n",
      "    </h3>\n",
      "    <p class=\"summary\">\n",
      "     Blog Post 5 Summary\n",
      "    </p>\n",
      "   </div>\n",
      "  </div>\n",
      "  <!-- Code injected by live-server -->\n",
      "  <script>\n",
      "   // <![CDATA[  <-- For SVG support\n",
      "\tif ('WebSocket' in window) {\n",
      "\t\t(function () {\n",
      "\t\t\tfunction refreshCSS() {\n",
      "\t\t\t\tvar sheets = [].slice.call(document.getElementsByTagName(\"link\"));\n",
      "\t\t\t\tvar head = document.getElementsByTagName(\"head\")[0];\n",
      "\t\t\t\tfor (var i = 0; i < sheets.length; ++i) {\n",
      "\t\t\t\t\tvar elem = sheets[i];\n",
      "\t\t\t\t\tvar parent = elem.parentElement || head;\n",
      "\t\t\t\t\tparent.removeChild(elem);\n",
      "\t\t\t\t\tvar rel = elem.rel;\n",
      "\t\t\t\t\tif (elem.href && typeof rel != \"string\" || rel.length == 0 || rel.toLowerCase() == \"stylesheet\") {\n",
      "\t\t\t\t\t\tvar url = elem.href.replace(/(&|\\?)_cacheOverride=\\d+/, '');\n",
      "\t\t\t\t\t\telem.href = url + (url.indexOf('?') >= 0 ? '&' : '?') + '_cacheOverride=' + (new Date().valueOf());\n",
      "\t\t\t\t\t}\n",
      "\t\t\t\t\tparent.appendChild(elem);\n",
      "\t\t\t\t}\n",
      "\t\t\t}\n",
      "\t\t\tvar protocol = window.location.protocol === 'http:' ? 'ws://' : 'wss://';\n",
      "\t\t\tvar address = protocol + window.location.host + window.location.pathname + '/ws';\n",
      "\t\t\tvar socket = new WebSocket(address);\n",
      "\t\t\tsocket.onmessage = function (msg) {\n",
      "\t\t\t\tif (msg.data == 'reload') window.location.reload();\n",
      "\t\t\t\telse if (msg.data == 'refreshcss') refreshCSS();\n",
      "\t\t\t};\n",
      "\t\t\tif (sessionStorage && !sessionStorage.getItem('IsThisFirstTime_Log_From_LiveServer')) {\n",
      "\t\t\t\tconsole.log('Live reload enabled.');\n",
      "\t\t\t\tsessionStorage.setItem('IsThisFirstTime_Log_From_LiveServer', true);\n",
      "\t\t\t}\n",
      "\t\t})();\n",
      "\t}\n",
      "\telse {\n",
      "\t\tconsole.error('Upgrade your browser. This Browser is NOT supported WebSocket for Live-Reloading.');\n",
      "\t}\n",
      "\t// ]]>\n",
      "  </script>\n",
      " </body>\n",
      "</html>\n"
     ]
    }
   ],
   "source": [
    "#  Getting the data from the website\n",
    "soup = BeautifulSoup(requests.get('http://127.0.0.1:5500/').text, 'lxml')\n",
    "\n",
    "# the output soup is not formatted. \n",
    "print(soup.prettify())"
   ]
  },
  {
   "cell_type": "code",
   "execution_count": null,
   "metadata": {},
   "outputs": [],
   "source": []
  }
 ],
 "metadata": {
  "kernelspec": {
   "display_name": "Python 3.7.7 64-bit",
   "language": "python",
   "name": "python3"
  },
  "language_info": {
   "codemirror_mode": {
    "name": "ipython",
    "version": 3
   },
   "file_extension": ".py",
   "mimetype": "text/x-python",
   "name": "python",
   "nbconvert_exporter": "python",
   "pygments_lexer": "ipython3",
   "version": "3.7.7"
  },
  "orig_nbformat": 4,
  "vscode": {
   "interpreter": {
    "hash": "69713e280fccb9aa802931bf1b98f79efcfe938b3ab1e86cc85b2e647522a81d"
   }
  }
 },
 "nbformat": 4,
 "nbformat_minor": 2
}
